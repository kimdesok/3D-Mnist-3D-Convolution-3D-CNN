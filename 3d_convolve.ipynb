{
  "nbformat": 4,
  "nbformat_minor": 0,
  "metadata": {
    "colab": {
      "name": "3d convolve.ipynb",
      "provenance": [],
      "authorship_tag": "ABX9TyMKypVlDyiBOeq+5+KOH/BL",
      "include_colab_link": true
    },
    "kernelspec": {
      "name": "python3",
      "display_name": "Python 3"
    }
  },
  "cells": [
    {
      "cell_type": "markdown",
      "metadata": {
        "id": "view-in-github",
        "colab_type": "text"
      },
      "source": [
        "<a href=\"https://colab.research.google.com/github/kimdesok/3D-Mnist-3D-Convolution-3D-CNN/blob/main/3d_convolve.ipynb\" target=\"_parent\"><img src=\"https://colab.research.google.com/assets/colab-badge.svg\" alt=\"Open In Colab\"/></a>"
      ]
    },
    {
      "cell_type": "code",
      "metadata": {
        "id": "Y1FdGNVJAn9y",
        "colab": {
          "base_uri": "https://localhost:8080/"
        },
        "outputId": "4834f848-0427-42fd-b90b-0fc7883234b8"
      },
      "source": [
        "import numpy as np\n",
        "import scipy.ndimage, scipy.signal\n",
        "\n",
        "img = np.random.rand(64, 64, 7) #three dimensional image\n",
        "k1 = np.array([0.1])\n",
        "k2 = k1 #the kernel along the 2nd dimension\n",
        "k3 = np.array([0.114, 0.141, 0.161, 0.168, 0.161, 0.141, 0.114]) #the kernel along the 3rd dimension\n",
        "\n",
        "# Convolve over all three axes in a for loop\n",
        "out = img.copy()\n",
        "for i, k in enumerate((k1, k2, k3)):\n",
        "  print(i, k)\n",
        "  out = scipy.ndimage.convolve1d(out, k, axis=i)\n",
        "print(out.shape)\n",
        "\n",
        "kern = np.ones((1, 1, 7))\n",
        "\n",
        "out = scipy.signal.convolve(img, kern, mode='same')\n",
        "print(img.shape, kern.shape, out.shape)"
      ],
      "execution_count": null,
      "outputs": [
        {
          "output_type": "stream",
          "text": [
            "0 [0.1]\n",
            "1 [0.1]\n",
            "2 [0.114 0.141 0.161 0.168 0.161 0.141 0.114]\n",
            "(64, 64, 7)\n",
            "(64, 64, 7) (1, 1, 7) (64, 64, 7)\n"
          ],
          "name": "stdout"
        }
      ]
    }
  ]
}